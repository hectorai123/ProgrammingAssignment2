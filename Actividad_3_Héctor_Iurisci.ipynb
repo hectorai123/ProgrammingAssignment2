{
  "nbformat": 4,
  "nbformat_minor": 0,
  "metadata": {
    "kernelspec": {
      "display_name": "Python 3",
      "language": "python",
      "name": "python3"
    },
    "language_info": {
      "codemirror_mode": {
        "name": "ipython",
        "version": 3
      },
      "file_extension": ".py",
      "mimetype": "text/x-python",
      "name": "python",
      "nbconvert_exporter": "python",
      "pygments_lexer": "ipython3",
      "version": "3.7.9"
    },
    "colab": {
      "name": "Actividad 3_Héctor_Iurisci.ipynb",
      "provenance": [],
      "collapsed_sections": [],
      "include_colab_link": true
    }
  },
  "cells": [
    {
      "cell_type": "markdown",
      "metadata": {
        "id": "view-in-github",
        "colab_type": "text"
      },
      "source": [
        "<a href=\"https://colab.research.google.com/github/hectorai123/ProgrammingAssignment2/blob/master/Actividad_3_H%C3%A9ctor_Iurisci.ipynb\" target=\"_parent\"><img src=\"https://colab.research.google.com/assets/colab-badge.svg\" alt=\"Open In Colab\"/></a>"
      ]
    },
    {
      "cell_type": "markdown",
      "metadata": {
        "id": "dS7OMsq61R-R"
      },
      "source": [
        "<img src=\"img3/Banner Curso 3_.jpg\" width=\"921\" height=\"89\" align=\"center\"/>\n",
        "\n",
        "<h1><center>Deep Learning - AnáhuacX</center></h1>\n",
        "<h2><center>Actividad 3: Reconocimiento de letras manuscritas</center></h2>\n",
        "\n",
        "\n",
        "<p style='text-align: justify;'>El siguiente ejercicio tiene como objetivo que practiques la construcción de redes neuronales convolucionales. </p>\n",
        "    \n",
        "<p style='text-align: justify;'>Estas redes generalmente son utilizadas para la optimización del reconocimiento de imágenes utilizando aprendizaje profundo. Trabajaremos con una base de datos que posee datos preprocesados de imágenes tomadas a letras manuscritas. </p>\n",
        "\n",
        "<p style='text-align: justify;'>Es importante que tomes en cuenta que, para efectos de control del ejercicio, hemos colocado semillas que regulan la aleatorización de los procesos en el algoritmo. De esta manera nos aseguramos que todos obtengan el mismo resultado si el algoritmo se escribe correctamente.</p>\n",
        "\n",
        "<p style='text-align: justify;'>Te invitamos a que experimentes con tu cuaderno después de contestar el cuestionario de la plataforma y retires estas semillas. Observa como se comportan tus redes convolucionales y revisa si mejoran o empeoran a la hora de agregarle la aleatoriedad característica de las redes neuronales.</p>\n",
        "\n",
        "<p style='text-align: justify;'>Te compartimos la siguiente cita, de la cual obtuvimos la base de datos utilizada para esta actividad.</p>\n",
        "\n",
        "<p style='text-align:center;'><strong>Gupta, A. (2018). <em>Handwritten A-Z</em>. Kaggle. <a href=\"https://www.kaggle.com/ashishguptajiit/handwritten-az\" target=\"_blank\">https://www.kaggle.com/ashishguptajiit/handwritten-az</a></strong></p>\n",
        "  \n",
        "<p style='text-align: justify;'><strong>Al finalizar deberás subir tu cuaderno en un archivo .zip</strong>.</p> \n",
        "  \n",
        "  <p style='text-align: justify;'>Es muy importante que subas tu cuaderno de la manera en cómo te indicamos para que tus compañeros puedan revisar tu código.</p>"
      ]
    },
    {
      "cell_type": "markdown",
      "metadata": {
        "id": "KtqwIojw1R-b"
      },
      "source": [
        "<ol>\n",
        "    <li>Carga las siguientes librerías: </li>\n",
        "</ol>"
      ]
    },
    {
      "cell_type": "code",
      "metadata": {
        "id": "tshxCeD11R-c"
      },
      "source": [
        "import matplotlib.pyplot as plt\n",
        "from matplotlib.pyplot import imread\n",
        "import numpy as np\n",
        "from scipy import signal\n",
        "import pandas as pd\n",
        "import matplotlib.pyplot as plt\n",
        "from sklearn.model_selection import train_test_split\n",
        "%matplotlib inline\n",
        "\n",
        "from numpy.random import seed\n",
        "seed(30) ## No muevas este parámetro, nos aseguramos de que tus resultados (si haces bien el ejercicio) \n",
        "         ## estén alineados con las opciones de la plataforma de edX."
      ],
      "execution_count": 10,
      "outputs": []
    },
    {
      "cell_type": "code",
      "metadata": {
        "id": "GcDiHFvWJX5K"
      },
      "source": [
        ""
      ],
      "execution_count": null,
      "outputs": []
    },
    {
      "cell_type": "markdown",
      "metadata": {
        "id": "w-gGc_Dg1R-d"
      },
      "source": [
        "<ol start=2>\n",
        "    <li>Carga tus datos e imprime los primeros 5 elementos del conjunto: </li>\n",
        "</ol>"
      ]
    },
    {
      "cell_type": "code",
      "metadata": {
        "id": "VkkdeQ3T1R-e"
      },
      "source": [
        ""
      ],
      "execution_count": null,
      "outputs": []
    },
    {
      "cell_type": "markdown",
      "metadata": {
        "id": "Pr-rKdxK1R-e"
      },
      "source": [
        "<ol start=3>\n",
        "    <li>Genera una muestra probabilística tomando en cuenta todos los datos, para ello tendrás que revolver los elementos. Después, imprime los primeros cinco elementos y responde, <strong>¿Cuál es el elemento de la primera fila, primera columna?</strong></li>\n",
        "</ol>"
      ]
    },
    {
      "cell_type": "code",
      "metadata": {
        "id": "eYX7giaJ1R-e"
      },
      "source": [
        "df = df.sample(frac=1)\r\n",
        "df.head()"
      ],
      "execution_count": null,
      "outputs": []
    },
    {
      "cell_type": "markdown",
      "metadata": {
        "id": "x8LfWs6y1R-f"
      },
      "source": [
        "<ol start = 4>\n",
        "    <li>Separa la variable objetivo de tu conjunto de datos. Recuerda que aquí se definen las variables dependientes e independientes.</li>\n",
        "</ol>"
      ]
    },
    {
      "cell_type": "code",
      "metadata": {
        "id": "hIDkHvD41R-f"
      },
      "source": [
        "#df = df.drop(\"time\",axis=1)\r\n",
        "y = df.DEATH_EVENT\r\n",
        "X = df.drop(\"DEATH_EVENT\",axis=1)"
      ],
      "execution_count": null,
      "outputs": []
    },
    {
      "cell_type": "code",
      "metadata": {
        "id": "VeYtrZKo1R-f"
      },
      "source": [
        ""
      ],
      "execution_count": null,
      "outputs": []
    },
    {
      "cell_type": "markdown",
      "metadata": {
        "id": "OQC3EANU1R-g"
      },
      "source": [
        "<ol start=5>\n",
        "    <li>Realiza una normalización de los datos encontrados en la variable independiente. La normalización se debe dar para convertir los números a valores entre 0 y 1. Recuerda que el valor máximo encontrado en los elementos de esta variable es <strong>255</strong>.</li>\n",
        "</ol>"
      ]
    },
    {
      "cell_type": "code",
      "metadata": {
        "id": "547qvsl-1R-g"
      },
      "source": [
        ""
      ],
      "execution_count": null,
      "outputs": []
    },
    {
      "cell_type": "markdown",
      "metadata": {
        "id": "GBBA_eZZ1R-g"
      },
      "source": [
        "<ol start = 6>\n",
        "    <li>Ejecuta las siguientes líneas. Te ayudarán a generar una biblioteca que te permita reemplazar los números con los cuales se relacionan las letras de las fotografías.</li>\n",
        "</ol>"
      ]
    },
    {
      "cell_type": "code",
      "metadata": {
        "id": "bNEuaZkI1R-g"
      },
      "source": [
        "abc = [chr(65+i) for i in np.unique(y)]\n",
        "print(abc)"
      ],
      "execution_count": null,
      "outputs": []
    },
    {
      "cell_type": "code",
      "metadata": {
        "id": "cDhTAgHe1R-h"
      },
      "source": [
        "letters_map = dict(zip(np.unique(y), range(len(np.unique(y)))))\n",
        "letters_map"
      ],
      "execution_count": null,
      "outputs": []
    },
    {
      "cell_type": "code",
      "metadata": {
        "id": "nWo2qyOK1R-h"
      },
      "source": [
        "y = y.replace(letters_map).values"
      ],
      "execution_count": null,
      "outputs": []
    },
    {
      "cell_type": "markdown",
      "metadata": {
        "id": "6Iq6f99s1R-h"
      },
      "source": [
        "<ol start = 7>\n",
        "    <li>Realiza un <em>reshape</em> de la variable independiente de tal forma que resulte una matriz de 28 x 28.</li>\n",
        "</ol>"
      ]
    },
    {
      "cell_type": "code",
      "metadata": {
        "id": "XWeeSX-k1R-h"
      },
      "source": [
        ""
      ],
      "execution_count": null,
      "outputs": []
    },
    {
      "cell_type": "markdown",
      "metadata": {
        "id": "7tSCJvA61R-i"
      },
      "source": [
        "<ol start=8>\n",
        "    <li>Ejectura la siguiente línea de código para imprimir las primeras cinco letras de nuestra base de datos y responde: <strong>¿Cuál es la segunda letra de la primera fila?</strong></li>\n",
        "</ol>"
      ]
    },
    {
      "cell_type": "code",
      "metadata": {
        "id": "ZKp1fDxo1R-i"
      },
      "source": [
        "plt.figure(figsize=(10,10))\n",
        "for i in range(25):\n",
        "    plt.subplot(5,5,i+1)\n",
        "    plt.xticks([])\n",
        "    plt.yticks([])\n",
        "    plt.grid(False)\n",
        "    number = x[i].reshape(28,28)\n",
        "    plt.imshow(number, cmap=plt.cm.binary)\n",
        "    plt.xlabel(abc[y[i]])\n",
        "plt.show()"
      ],
      "execution_count": null,
      "outputs": []
    },
    {
      "cell_type": "markdown",
      "metadata": {
        "id": "O-mjeu551R-i"
      },
      "source": [
        "<ol start=9>\n",
        "    <li>Realiza el <em>split</em> de datos en conjuntos de <strong>entrenamiento</strong> y <strong>prueba</strong> de las variables independiente y dependiente. Realiza la separación de datos de tal forma que 70% se vayan a los conjuntos de entrenamiento y el restante a los de prueba. Por último, define un random state con valor de <strong>103</strong>.</li>\n",
        "</ol>"
      ]
    },
    {
      "cell_type": "code",
      "metadata": {
        "id": "spTDcxJK1R-i"
      },
      "source": [
        ""
      ],
      "execution_count": null,
      "outputs": []
    },
    {
      "cell_type": "markdown",
      "metadata": {
        "id": "QjVN2s7X1R-i"
      },
      "source": [
        "<ol start = 10>\n",
        "    <li>Genera dos capas de redes convolucionales. Recuerda que cada capa convolucional lleva una capa de agrupacion. </li>\n",
        "<p>Las características de la primera capa convolucional son las siguientes:<p>\n",
        "    <ol>\n",
        "        <li>Filtros: <strong>32</strong>.</li>\n",
        "        <li>Tamaño del kernel: <strong>5 x 5</strong>.</li>\n",
        "        <li>Señal de activación: <strong>Relu</strong>.</li>\n",
        "        <li>Padding: <strong>same</strong>.</li>\n",
        "        <li>Input shape: <strong>28 x 28 x 1</strong>.</li>\n",
        "    </ol>\n",
        "\n",
        "<p>Las características de la segunda capa de convolución son las siguientes:</p>\n",
        "        <ol>\n",
        "            <li>Filtros: <strong>64</strong>.</li>\n",
        "            <li>Tamaño del kernel: <strong>5 x 5</strong>.</li>\n",
        "            <li>Señal de activación: <strong>Relu</strong>.</li>\n",
        "            <li>Padding: <strong>same</strong>.</li>\n",
        "            <li>Input shape: <strong>input_layer</strong>.</li>\n",
        "        </ol>\n",
        "        \n",
        "<p>Las características de las capas de agrupamiento (MaxPooling) son las siguientes:</p>\n",
        "        <ol>\n",
        "            <li>Pool size = <strong>2 x 2</strong>.</li>\n",
        "            <li>Stride = <strong>2</strong></li>\n",
        "        </ol>\n",
        "</ol>"
      ]
    },
    {
      "cell_type": "code",
      "metadata": {
        "scrolled": true,
        "id": "8AiY6Xot1R-j"
      },
      "source": [
        "import tensorflow\n",
        "tensorflow.random.set_seed(30) ## No muevas este parámetro, nos aseguramos de que tus resultados (si haces bien el ejercicio) \n",
        "                               ## estén alineados con las opciones de la plataforma de edX.\n",
        "from tensorflow import keras\n",
        "from tensorflow.keras import datasets, layers, models\n",
        "    \n",
        "    \n",
        "input_layer = x_train\n",
        "\n",
        "model = models.Sequential()\n",
        "\n",
        "\n",
        "\n",
        "\n",
        "\n",
        "\n",
        "\n",
        "\n",
        "\n",
        "\n",
        "model.summary()\n"
      ],
      "execution_count": null,
      "outputs": []
    },
    {
      "cell_type": "markdown",
      "metadata": {
        "id": "W56NiQdG1R-j"
      },
      "source": [
        "<ol start=11>\n",
        "    <li><strong>¿Cuántos parámetros está manejando la primera capa de convolución?</strong></li>\n",
        "</ol>"
      ]
    },
    {
      "cell_type": "markdown",
      "metadata": {
        "id": "medoOjuQ1R-j"
      },
      "source": [
        "<ol start = 12>\n",
        "    <li><strong>¿Cuántos parámetros está manejando la segunda capa de convolución?</strong></li>\n",
        "</ol>"
      ]
    },
    {
      "cell_type": "markdown",
      "metadata": {
        "id": "3oHbdAML1R-j"
      },
      "source": [
        "<ol start = 13>\n",
        "    <li>Genera:\n",
        "        <ol>\n",
        "            <li>Una <strong>capa de Flatten</strong>.</li>\n",
        "            <li>Una <strong>red neuronal con una capa oculta</strong>.</li>\n",
        "            <li>Una capa de <strong>Dropout</strong>:</li>\n",
        "            <ol>\n",
        "                <li>Entre la <strong>capa de entrada</strong> y la <strong>capa oculta</strong> y;</li> \n",
        "                <li>Entre la <strong>capa oculta</strong> y la <strong>capa de salida</strong>.</li>\n",
        "            </ol>\n",
        "        </ol>\n",
        "    \n",
        "<p>Las características de la red neuronal son los siguientes:<p>\n",
        "    <ol>\n",
        "        <li>Número de entradas: <strong>64</strong></li>\n",
        "        <li>Señal de activación de la capa Flatten a la entrada de la red: <strong>Relu</strong>.</li>\n",
        "        <li>Señal de activación de la capa de entrada y la capa oculta: <strong>Softmax</strong>.</li>\n",
        "        <li>Señal de activación de la capa oculta y la capa de salida: <strong>Softmax</strong>.</li>\n",
        "        <li>Cuida mucho el <strong>número de salidas</strong> de tu red neuronal.</li>\n",
        "    </ol>\n",
        "\n",
        "<p>El rate de las capas de <strong>Dropout</strong> es de: 0.4</p>\n",
        "\n",
        "   \n",
        "</ol>"
      ]
    },
    {
      "cell_type": "code",
      "metadata": {
        "id": "rLEtmbFw1R-k"
      },
      "source": [
        ""
      ],
      "execution_count": null,
      "outputs": []
    },
    {
      "cell_type": "markdown",
      "metadata": {
        "id": "HBZtn4T91R-l"
      },
      "source": [
        "<ol start = 14>\n",
        "    <li><strong>¿Cuántos parámetros se están manejando en la capa de salida?</strong></li>\n",
        "</ol>"
      ]
    },
    {
      "cell_type": "markdown",
      "metadata": {
        "id": "I7zectdm1R-l"
      },
      "source": [
        "<ol start = 15>\n",
        "    <li>Compila el modelo generado con base en las siguientes características: </li>\n",
        "    <ol>\n",
        "        <li>Optimizador: <strong>adam</strong>.</li>\n",
        "        <li>Loss: <strong>sparse_categorical_crossentropy</strong>.</li>\n",
        "        <li>Métrica: <strong>Accuracy</strong>.</li>\n",
        "    </ol>\n",
        "    \n",
        " <p>Realiza un ajuste del modelo con las siguientes características: </p>\n",
        "    \n",
        " <ol>\n",
        "     <li>Utilizar los conjuntos de <strong>entrenamiento</strong> de las <strong>variables independientes y dependientes</strong> para ajustarse en el modelo.</li>\n",
        "     <li>Validación de los datos: <strong>Conjuntos de prueba de las variables dependiente e independiente</strong>.</li>\n",
        "     <li>Epochs: <strong>10</strong>.</li>\n",
        "     <li>Tamaño del batch: <strong>100</strong>.</li>\n",
        " </ol>\n",
        "</ol>"
      ]
    },
    {
      "cell_type": "code",
      "metadata": {
        "id": "4UXIUiiT1R-l"
      },
      "source": [
        ""
      ],
      "execution_count": null,
      "outputs": []
    },
    {
      "cell_type": "markdown",
      "metadata": {
        "id": "IdZZbkHj1R-m"
      },
      "source": [
        "<ol start=16>\n",
        "    <li>Ejecuta el siguiente código para evaluar tu modelo y responde a la siguiente pregunta: <strong>¿Cuál es la precisión de la red?</strong></li>\n",
        "</ol>"
      ]
    },
    {
      "cell_type": "code",
      "metadata": {
        "id": "KI59bH9l1R-m"
      },
      "source": [
        "test_loss, test_acc = model.evaluate(x_test, y_test)\n",
        "\n",
        "print(\"Test acc:\", test_acc)"
      ],
      "execution_count": null,
      "outputs": []
    },
    {
      "cell_type": "markdown",
      "metadata": {
        "id": "FogYB--o1R-n"
      },
      "source": [
        "<ol start = 17>\n",
        "    <li>Ejecuta las siguientes instrucciones y responde a la siguiente pregunta: <strong>¿Cuántas veces se equivocó la red?</strong></li>\n",
        "</ol>"
      ]
    },
    {
      "cell_type": "markdown",
      "metadata": {
        "id": "G3fsg2l51R-n"
      },
      "source": [
        "<ol start=18>\n",
        "    <li><strong>¿Cuál es el porcentaje de error?</strong></li>\n",
        "</ol>"
      ]
    },
    {
      "cell_type": "code",
      "metadata": {
        "id": "j2JQzp6f1R-n"
      },
      "source": [
        "predictions = model.predict(x_test)\n",
        "y_hat = np.argmax(predictions,axis=1)"
      ],
      "execution_count": null,
      "outputs": []
    },
    {
      "cell_type": "code",
      "metadata": {
        "id": "vd3KTXjL1R-o"
      },
      "source": [
        "errores = x_test[y_test != y_hat]\n",
        "print(\"Elementos de prueba: {}\".format(y_test.shape[0]))\n",
        "errores_count = errores.shape[0]\n",
        "errores_count\n",
        "print(\"Errores identificados: {}\".format(errores_count))\n",
        "porcentaje_error = errores_count *100 / y_test.shape[0]\n",
        "print(\"Porcentaje de error: {} %\".format(porcentaje_error))"
      ],
      "execution_count": null,
      "outputs": []
    },
    {
      "cell_type": "markdown",
      "metadata": {
        "id": "KU0QQTfF1R-o"
      },
      "source": [
        "<ol start=19>\n",
        "    <li>Ejecuta las siguientes líneas para visualizar los elementos en los que se equivocó la red y genera tu matriz de confusión para visualizar cuáles fueron las letras en las que más se equivocó.</li>\n",
        "</ol>"
      ]
    },
    {
      "cell_type": "code",
      "metadata": {
        "id": "kuE7BEOZ1R-o"
      },
      "source": [
        "real_labels = y_test[y_test != y_hat]\n",
        "predicted_labels = y_hat[y_test != y_hat]\n",
        "\n",
        "for j in range(round(errores.shape[0]/5)):\n",
        "    plt.figure(figsize=(10,10))\n",
        "    for i in range(min(5,errores_count-5*j)):\n",
        "        plt.subplot(1,min(5,errores_count-5*j),i+1)\n",
        "        plt.xticks([])\n",
        "        plt.yticks([])\n",
        "        plt.grid(False)\n",
        "        number = errores[5*j+i].reshape(28,28)\n",
        "        plt.imshow(number, cmap=plt.cm.binary)\n",
        "        plt.xlabel(\"Real: {} Prediccion: {}\".format\n",
        "                   (abc[real_labels[5*j+i]],abc[predicted_labels[5*j+i]]))\n",
        "    plt.show()"
      ],
      "execution_count": null,
      "outputs": []
    },
    {
      "cell_type": "code",
      "metadata": {
        "id": "JYQfjWXI1R-o"
      },
      "source": [
        "import seaborn as sns\n",
        "from sklearn.metrics import confusion_matrix\n",
        "\n",
        "mod_confusion_matrix = confusion_matrix(y_test, y_hat)\n",
        "for i in range(## Escribe el rango):\n",
        "    mod_confusion_matrix[i][i] = 0\n",
        "    \n",
        "fig = plt.figure(figsize=(12,10))\n",
        "ax = fig.add_subplot(1,1,1) \n",
        "sns.heatmap(mod_confusion_matrix, linewidth=0.5, annot=True, cmap=\"YlGnBu\")\n",
        "plt.xticks(np.arange(## Escribe el rango), abc)\n",
        "plt.yticks(np.arange(## Escribe el rango), abc)\n",
        "plt.ylabel(\"Etiquetas Reales\")\n",
        "plt.xlabel(\"Etiquetas Predecidas\")\n",
        "ax.set_ylim(26.5,-0.5);"
      ],
      "execution_count": null,
      "outputs": []
    },
    {
      "cell_type": "markdown",
      "metadata": {
        "id": "hO9SfDT81R-p"
      },
      "source": [
        "<ol start=20>\n",
        "    <li><strong>¿Cuáles son las tres letras que la red predijo de manera incorrecta</strong>.</li>\n",
        "</ol>"
      ]
    },
    {
      "cell_type": "markdown",
      "metadata": {
        "id": "VOyEBD0M1R-p"
      },
      "source": [
        "<img src=\"img3/Anáhuac_edX.png\" width=\"498\" height=\"150\" align=\"center\"/>"
      ]
    }
  ]
}